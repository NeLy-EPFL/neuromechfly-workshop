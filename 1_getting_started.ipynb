{
 "cells": [
  {
   "cell_type": "markdown",
   "metadata": {},
   "source": [
    "# Getting Started with FlyGym\n",
    "\n",
    "In this example, we will demonstrate how to control a fly in a physics-based simulation. As a basic example, we will actuate all leg degrees of freedom (DoF) using sine waves. That is, each DoF will oscillate in a sinusoidal pattern."
   ]
  },
  {
   "cell_type": "markdown",
   "metadata": {},
   "source": [
    "To run this notebook on Google Colab:\n",
    "- Locate the menu bar at the top of this page, go to \"Runtime\" → \"Change runtime type\", and select a GPU (e.g. \"T4 GPU\"). Save your setting.\n",
    "- Run the first code blocks.\n",
    "- Then, you can import FlyGym and start writing your own code.\n",
    "\n",
    "If you are not using Google Colab, the first code block won't do anything when executed."
   ]
  },
  {
   "cell_type": "code",
   "execution_count": null,
   "metadata": {},
   "outputs": [],
   "source": [
    "try:\n",
    "    import google.colab\n",
    "\n",
    "    IN_COLAB = True\n",
    "except ImportError:\n",
    "    IN_COLAB = False\n",
    "\n",
    "try:\n",
    "    import flygym\n",
    "\n",
    "    FLYGYM_INSTALLED = True\n",
    "except ImportError:\n",
    "    FLYGYM_INSTALLED = False\n",
    "\n",
    "if not FLYGYM_INSTALLED:\n",
    "    if IN_COLAB:\n",
    "        print(\n",
    "            \"I'm on Colab and FlyGym is not installed. I will try to install it now. \"\n",
    "            \"This will take a minute.\"\n",
    "        )\n",
    "        import subprocess\n",
    "\n",
    "        subprocess.run('pip install \"flygym[examples]\"', shell=True)\n",
    "    else:\n",
    "        print(\n",
    "            \"FlyGym is not installed, and I'm on your own computer. I can try to \"\n",
    "            \"install it here, but I don't want to modify your Python environment \"\n",
    "            \"unintentionally. Please install FlyGym yourself following instructions \"\n",
    "            \"from https://neuromechfly.org/installation.html\"\n",
    "        )\n",
    "\n",
    "if IN_COLAB:\n",
    "    print(\"In Google Colab. I will now perform some Colab-specific setups.\")\n",
    "    # Set up GPU a few more and rendering parameters. This should take ~1 second.\n",
    "    from google.colab import files\n",
    "    import distutils.util\n",
    "    import os\n",
    "    import subprocess\n",
    "\n",
    "    if subprocess.run(\"nvidia-smi\").returncode:\n",
    "        raise RuntimeError(\n",
    "            \"Cannot communicate with GPU. \"\n",
    "            \"Make sure you are using a GPU Colab runtime. \"\n",
    "            \"Go to the Runtime menu and select Choose runtime type.\"\n",
    "        )\n",
    "\n",
    "    # Add an ICD config so that glvnd can pick up the Nvidia EGL driver.\n",
    "    # This is usually installed as part of an Nvidia driver package, but the Colab\n",
    "    # kernel doesn't install its driver via APT, and as a result the ICD is missing.\n",
    "    # (https://github.com/NVIDIA/libglvnd/blob/master/src/EGL/icd_enumeration.md)\n",
    "    NVIDIA_ICD_CONFIG_PATH = \"/usr/share/glvnd/egl_vendor.d/10_nvidia.json\"\n",
    "    if not os.path.exists(NVIDIA_ICD_CONFIG_PATH):\n",
    "        with open(NVIDIA_ICD_CONFIG_PATH, \"w\") as f:\n",
    "            f.write(\n",
    "                \"\"\"{\n",
    "    \"file_format_version\" : \"1.0.0\",\n",
    "    \"ICD\" : {\n",
    "        \"library_path\" : \"libEGL_nvidia.so.0\"\n",
    "    }\n",
    "}\n",
    "\"\"\"\n",
    "            )\n",
    "\n",
    "    # Configure MuJoCo to use the EGL rendering backend (requires GPU)\n",
    "    print(\"Setting environment variable to use GPU rendering:\")\n",
    "    %env MUJOCO_GL=egl\n",
    "\n",
    "    try:\n",
    "        print(\"Checking that the installation succeeded:\")\n",
    "        import mujoco\n",
    "\n",
    "        mujoco.MjModel.from_xml_string(\"<mujoco/>\")\n",
    "    except Exception as e:\n",
    "        raise e from RuntimeError(\n",
    "            \"Something went wrong during installation. Check the shell output above \"\n",
    "            \"for more information.\\n\"\n",
    "            \"If using a hosted Colab runtime, make sure you enable GPU acceleration \"\n",
    "            'by going to the Runtime menu and selecting \"Choose runtime type\".'\n",
    "        )\n",
    "\n",
    "    print(\"Installation successful.\")"
   ]
  },
  {
   "cell_type": "markdown",
   "metadata": {},
   "source": [
    "We are now ready to start programming with FlyGym, the Python library that implements NeuroMechFly.\n",
    "\n",
    "The fruit fly has numerous DoFs, but we will focus on the actively controlled leg DoFs. Each leg has seven:\n",
    "- Thorax-coxa pitch\n",
    "- Thorax-coxa roll\n",
    "- Thorax-coxa yaw\n",
    "- Coxa-femur pitch\n",
    "- Coxa-femur roll\n",
    "- Femur-tibia pitch\n",
    "- Tibia-tarsus pitch\n",
    "\n",
    "For convenience, we have predefined these DoFs in a hard-coded list that you can simply import:"
   ]
  },
  {
   "cell_type": "code",
   "execution_count": null,
   "metadata": {},
   "outputs": [],
   "source": [
    "from flygym.preprogrammed import all_leg_dofs\n",
    "\n",
    "print(all_leg_dofs)"
   ]
  },
  {
   "cell_type": "markdown",
   "metadata": {},
   "source": [
    "Next, we will generate the sine wave representing the deviation of DoF angles from the initial position. We can use NumPy to generate these signals:\n"
   ]
  },
  {
   "cell_type": "code",
   "execution_count": null,
   "metadata": {},
   "outputs": [],
   "source": [
    "import numpy as np\n",
    "\n",
    "# Some parameters for the simulation\n",
    "simulated_time = 0.5  # we will simulate 1 second of behavior\n",
    "freq = 5  # let the DoFs oscillate at 5 Hz\n",
    "amp = np.deg2rad(30)  # let the amplitude of the oscillation be 30 deg\n",
    "physics_dt = 1e-4  # we will simulate the physics at a time step of 0.0001s\n",
    "num_steps = int(simulated_time / physics_dt)\n",
    "num_dofs = 6 * 7  # 6 legs, 7 DoFs per leg\n",
    "\n",
    "# Let's generate a time grid from 0s to 1s, with a spacing of 0.0001s\n",
    "times = np.arange(num_steps) * physics_dt\n",
    "\n",
    "# Now, we can generate the sine wave. This will be the deviation of DoF\n",
    "# angles from the initial positions.\n",
    "delta_dof_angles = amp * np.sin(2 * np.pi * freq * times)\n",
    "\n",
    "print(\"Time grid:\", times)\n",
    "print(\"Delta DoF angles:\", delta_dof_angles)"
   ]
  },
  {
   "cell_type": "markdown",
   "metadata": {},
   "source": [
    "Let's take a look at the control signals visually:"
   ]
  },
  {
   "cell_type": "code",
   "execution_count": null,
   "metadata": {},
   "outputs": [],
   "source": [
    "import matplotlib.pyplot as plt\n",
    "\n",
    "plt.plot(times, delta_dof_angles)\n",
    "plt.xlabel(\"Time (second)\")\n",
    "plt.ylabel(\"Δ angles (radian)\")\n",
    "plt.title(\"Offset of DoF angles from initial positions\")"
   ]
  },
  {
   "cell_type": "markdown",
   "metadata": {},
   "source": [
    "Now, we can set up the FlyGym simulation. We start by creating a `Fly` object:"
   ]
  },
  {
   "cell_type": "code",
   "execution_count": null,
   "metadata": {},
   "outputs": [],
   "source": [
    "from flygym import Fly\n",
    "\n",
    "fly = Fly(\n",
    "    name=\"Nuro\",  # identifier for the fly\n",
    "    spawn_pos=(0, 0, 5),  # we will drop the fly from a height of 5mm\n",
    "    actuated_joints=all_leg_dofs,  # we will actuate all active leg DoFs\n",
    ")"
   ]
  },
  {
   "cell_type": "markdown",
   "metadata": {},
   "source": [
    "Then, we can create a `Camera` object to record the fly:"
   ]
  },
  {
   "cell_type": "code",
   "execution_count": null,
   "metadata": {},
   "outputs": [],
   "source": [
    "from flygym import Camera\n",
    "\n",
    "camera = Camera(\n",
    "    fly=fly,  # attach the camera to the fly above\n",
    "    camera_id=\"Animat/camera_left\",  # use the left side view camera\n",
    "    play_speed=0.1,  # replay the recording at 0.1x speed\n",
    "    fps=30,  # the replay will be rendered at 30 FPS\n",
    "    # (considering the 0.1x speed, we actually record at 300Hz)\n",
    "    timestamp_text=True,  # add time stamp to the rendered images\n",
    "    play_speed_text=True,  # also stamp the play speed on the images\n",
    ")"
   ]
  },
  {
   "cell_type": "markdown",
   "metadata": {},
   "source": [
    "With these, we can create the `Simulation` object itself:"
   ]
  },
  {
   "cell_type": "code",
   "execution_count": null,
   "metadata": {},
   "outputs": [],
   "source": [
    "from flygym import Simulation\n",
    "\n",
    "sim = Simulation(\n",
    "    flies=[fly],  # we can simulate multiple flies, but we only have one\n",
    "    cameras=[camera],  # we can have multiple cameras, but we only have one\n",
    "    timestep=physics_dt,  # set the dt of the physics simulation\n",
    ")"
   ]
  },
  {
   "cell_type": "markdown",
   "metadata": {},
   "source": [
    "NeuroMechFly control operates as a Partially Observable Markov Decision Process (POMDP). In a POMDP, the following happens at each time step:\n",
    "- The **controller** (i.e., nervous system) receives an **observation** from the **task** (i.e., the physics simulation). This observation can include proprioceptive signals, visual inputs, and other sensory information depending on the modeller's choice. Optionally, the controller also receives a **reward**.\n",
    "- Based on the observation, the controller decides on the next **action**. Depending on the level of abstraction that the modeller desires, the action can be the motor neuron drive, target joint position, etc.\n",
    "- The **task** (i.e., the physics simulation) executes the action and returns the updated physics state as the next observation.\n",
    "\n",
    "\n",
    "This process repeats in closed-loop, as demonstrated in the figure below.\n",
    "\n",
    "![NeuroMechFly control as a POMDP](https://github.com/NeLy-EPFL/_media/blob/main/flygym/nmf_schema_new.png?raw=true)\n",
    "\n",
    "In our simulation, the task will return three additional pieces of information for the modeller's convenience:\n",
    "- An arbitrary set of additional *information*, configurable by the modeller. This might include variables the fly itself can't directly perceive but are useful for the modeller, such as the fly's absolute global position or total walking distance.\n",
    "- Whether or not the task has been *terminated* because a goal has been accomplished. This is particularly useful in reinforcement learning. If it is not applicable, one can make it always return False.\n",
    "- A true-or-false variable indicating whether the task has been *terminated* — i.e., whether the task has been completed. This is particularly useful in reinforcement learning. If irrelevant, this flag can always return `False`.\n",
    "- A true-or-false variable indicating whether the task has been *truncated*. Unlike termination, truncation occurs when the simulation ends for reasons outside of the task, such as exceeding a time limit set by the modeller.\n",
    "\n",
    "Let's reset the simulation to obtain the initial observation (`obs`) and additional information (`info`):"
   ]
  },
  {
   "cell_type": "code",
   "execution_count": null,
   "metadata": {},
   "outputs": [],
   "source": [
    "obs, info = sim.reset()"
   ]
  },
  {
   "cell_type": "markdown",
   "metadata": {},
   "source": [
    "You can access the fly's observation through `obs[\"Nuro\"]`. This is a dictionary containing multiple key-value pairs:"
   ]
  },
  {
   "cell_type": "code",
   "execution_count": null,
   "metadata": {},
   "outputs": [],
   "source": [
    "print(obs[\"Nuro\"].keys())"
   ]
  },
  {
   "cell_type": "markdown",
   "metadata": {},
   "source": [
    "For instance, we can retrieve the current joint angles as follows:"
   ]
  },
  {
   "cell_type": "code",
   "execution_count": null,
   "metadata": {},
   "outputs": [],
   "source": [
    "initial_dof_angles = obs[\"Nuro\"][\"joints\"][0, :]\n",
    "initial_dof_angles"
   ]
  },
  {
   "cell_type": "markdown",
   "metadata": {},
   "source": [
    "Why does `obs[\"Nuro\"][\"joints\"][0, :]` return the current DoF angles? `obs[\"Nuro\"][\"joints\"]` is a 3×N matrix, where N is the number of actuated DoFs. The three rows of the matrix are the angles, angular velocities, and torques experienced at each DoF respectively. The user is not expected to know this by heart; the full definition of the action and observation spaces can be found in [FlyGym's documentation](https://neuromechfly.org/api_ref/mdp_specs.html)."
   ]
  },
  {
   "cell_type": "markdown",
   "metadata": {},
   "source": [
    "Next, we add these initial angles to the delta angles time series to get the target angle for each DoF at every time step:"
   ]
  },
  {
   "cell_type": "code",
   "execution_count": null,
   "metadata": {},
   "outputs": [],
   "source": [
    "target_dof_angles = np.zeros(shape=(num_dofs, num_steps))\n",
    "for i in range(num_dofs):\n",
    "    target_dof_angles[i, :] = initial_dof_angles[i] + delta_dof_angles"
   ]
  },
  {
   "cell_type": "markdown",
   "metadata": {},
   "source": [
    "Now, let’s run the main simulation loop using the target joint angles obtained above. While the simulation runs, we will record the observation history. Instead of the standard `range` function, we will use `tqdm.trange` to display a progress bar:"
   ]
  },
  {
   "cell_type": "code",
   "execution_count": null,
   "metadata": {},
   "outputs": [],
   "source": [
    "from tqdm import trange\n",
    "\n",
    "obs_hist = []  # Make an empty list to record observations\n",
    "\n",
    "for i in trange(num_steps):\n",
    "    # The action is nested dictionary. On the first layer, we specify the\n",
    "    # action performed by each of the simulated flies (in this case, just\n",
    "    # Nuro). On the second layer, we specify different types of actions (in\n",
    "    # this case, we only have joint actions, but in general there can also\n",
    "    # be things like leg adhesion on/off).\n",
    "    action = {\"Nuro\": {\"joints\": target_dof_angles[:, i]}}\n",
    "\n",
    "    # Apply the action and get the new observation, etc.\n",
    "    obs, reward, terminated, truncated, info = sim.step(action)\n",
    "\n",
    "    # Don't forget to apply `sim.render()` to record the scene using the\n",
    "    # camera(s) specified in the beginning.\n",
    "    sim.render()\n",
    "\n",
    "    obs_hist.append(obs)  # record observation"
   ]
  },
  {
   "cell_type": "markdown",
   "metadata": {},
   "source": [
    "Let’s plot the actual joint angles observed during the simulation, overlaid with the target angles:"
   ]
  },
  {
   "cell_type": "code",
   "execution_count": null,
   "metadata": {},
   "outputs": [],
   "source": [
    "from pathlib import Path\n",
    "\n",
    "steps_simulated = len(obs_hist)\n",
    "real_dof_angles = np.array([obs[\"Nuro\"][\"joints\"][0, :7] for obs in obs_hist]).T\n",
    "for i, dof in enumerate(all_leg_dofs[:7]):\n",
    "    color = f\"C{i}\"\n",
    "    plt.plot(\n",
    "        times[:steps_simulated],\n",
    "        real_dof_angles[i, :],\n",
    "        color=color,\n",
    "        linestyle=\"-\",\n",
    "        label=f\"{dof}, actual\",\n",
    "    )\n",
    "    plt.plot(\n",
    "        times[:steps_simulated],\n",
    "        target_dof_angles[i, :steps_simulated],\n",
    "        color=color,\n",
    "        linestyle=\"--\",\n",
    "        label=f\"{dof}, target\",\n",
    "    )\n",
    "plt.legend(bbox_to_anchor=(1.04, 1), borderaxespad=0)\n",
    "plt.xlabel(\"Time (s)\")\n",
    "plt.ylabel(\"Joint angle (rad)\")\n",
    "plt.title(\"Target and actual DoF angles, one leg only\")\n",
    "\n",
    "output_dir = Path(\"outputs/getting_started/\")\n",
    "output_dir.mkdir(exist_ok=True, parents=True)\n",
    "plt.savefig(output_dir / \"target_and_actual_angles.png\")"
   ]
  },
  {
   "cell_type": "markdown",
   "metadata": {},
   "source": [
    "You may notice that the actual angles do not exactly match the target angles. This discrepancy arises because the joints and actuators have finite stiffness and gain, and they are influenced by passive forces, such as collisions.\n",
    "\n",
    "\n",
    "Finally, we can save the frames captured by the camera as a video:"
   ]
  },
  {
   "cell_type": "code",
   "execution_count": null,
   "metadata": {},
   "outputs": [],
   "source": [
    "camera.save_video(output_dir / \"video.mp4\")"
   ]
  },
  {
   "cell_type": "markdown",
   "metadata": {},
   "source": [
    "NeuroMechFly is more than just a tool for graphics rendering; it’s a full-fledged physics-based simulation of a fruit fly’s biomechanics. This means that not all movements specified by the user-defined controller are physically feasible. Some may generate excessive forces, leading to a failure in the simulation’s stability, potentially causing a crash. For example, as an exercise, try increasing the amplitude of the sine wave to 90 degrees, and rerun the simulation. What do you observe?"
   ]
  },
  {
   "cell_type": "markdown",
   "metadata": {},
   "source": [
    "This simple example is, of course, unrealistic in many ways. However, we hope it demonstrates the basic principles of controlling NeuroMechFly. In the next tutorial, we will explore how to simulate more realistic behaviors with NeuroMechFly."
   ]
  }
 ],
 "metadata": {
  "kernelspec": {
   "display_name": "Python 3 (ipykernel)",
   "language": "python",
   "name": "python3"
  },
  "language_info": {
   "codemirror_mode": {
    "name": "ipython",
    "version": 3
   },
   "file_extension": ".py",
   "mimetype": "text/x-python",
   "name": "python",
   "nbconvert_exporter": "python",
   "pygments_lexer": "ipython3",
   "version": "3.9.6"
  }
 },
 "nbformat": 4,
 "nbformat_minor": 2
}
