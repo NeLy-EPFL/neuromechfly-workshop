{
 "cells": [
  {
   "cell_type": "markdown",
   "metadata": {},
   "source": [
    "# Getting started with NeuroMechFly\n",
    "\n",
    "This notebook template contains boilerplate code necessary to install the FlyGym library and set up the environment on Google Colab.\n",
    "\n",
    "To use this notebook on Colab:\n",
    "1. Locate the manu bar at the top of this page, go to \"Runtime\" → \"Change runtime type\", and select a GPU (e.g. \"T4 GPU\"). Save your setting.\n",
    "2. Run the first code block. If you run it on a normal computer (i.e., not Colab), nothing will happen.\n",
    "\n",
    "Then, you can import flygym and start writing your own code after the second code block."
   ]
  },
  {
   "cell_type": "code",
   "execution_count": 1,
   "metadata": {},
   "outputs": [],
   "source": [
    "try:\n",
    "    import google.colab\n",
    "    IN_COLAB = True\n",
    "except ImportError:\n",
    "    IN_COLAB = False\n",
    "\n",
    "try:\n",
    "    import flygym\n",
    "    FLYGYM_INSTALLED = True\n",
    "except ImportError:\n",
    "    FLYGYM_INSTALLED = False\n",
    "\n",
    "if not FLYGYM_INSTALLED:\n",
    "    if IN_COLAB:\n",
    "        print(\n",
    "            \"I'm on Colab and FlyGym is not installed. I will try to install it now. \"\n",
    "            \"This will take a minute.\"\n",
    "        )\n",
    "        import subprocess\n",
    "        subprocess.run(\n",
    "            'pip install \"flygym[examples]\" \"mujoco==3.2.2\" \"dm_control==1.0.22\"',\n",
    "            shell=True\n",
    "        )\n",
    "    else:\n",
    "        print(\n",
    "            \"FlyGym is not installed, and I'm on your own computer. I can try to \"\n",
    "            \"install it here, but I don't want to modify your Python environment \"\n",
    "            \"unintentionally. Please install FlyGym yourself following instructions \"\n",
    "            \"from https://neuromechfly.org/installation.html\"\n",
    "        )\n",
    "\n",
    "if IN_COLAB:\n",
    "    print(\"In Google Colab. I will now perform some Colab-specific setups.\")\n",
    "    # Set up GPU a few more and rendering parameters. This should take ~1 second.\n",
    "    from google.colab import files\n",
    "    import distutils.util\n",
    "    import os\n",
    "    import subprocess\n",
    "\n",
    "    if subprocess.run(\"nvidia-smi\").returncode:\n",
    "        raise RuntimeError(\n",
    "            \"Cannot communicate with GPU. \"\n",
    "            \"Make sure you are using a GPU Colab runtime. \"\n",
    "            \"Go to the Runtime menu and select Choose runtime type.\"\n",
    "        )\n",
    "\n",
    "    # Add an ICD config so that glvnd can pick up the Nvidia EGL driver.\n",
    "    # This is usually installed as part of an Nvidia driver package, but the Colab\n",
    "    # kernel doesn't install its driver via APT, and as a result the ICD is missing.\n",
    "    # (https://github.com/NVIDIA/libglvnd/blob/master/src/EGL/icd_enumeration.md)\n",
    "    NVIDIA_ICD_CONFIG_PATH = \"/usr/share/glvnd/egl_vendor.d/10_nvidia.json\"\n",
    "    if not os.path.exists(NVIDIA_ICD_CONFIG_PATH):\n",
    "        with open(NVIDIA_ICD_CONFIG_PATH, \"w\") as f:\n",
    "            f.write(\n",
    "\"\"\"{\n",
    "    \"file_format_version\" : \"1.0.0\",\n",
    "    \"ICD\" : {\n",
    "        \"library_path\" : \"libEGL_nvidia.so.0\"\n",
    "    }\n",
    "}\n",
    "\"\"\"\n",
    "            )\n",
    "\n",
    "    # Configure MuJoCo to use the EGL rendering backend (requires GPU)\n",
    "    print(\"Setting environment variable to use GPU rendering:\")\n",
    "    %env MUJOCO_GL=egl\n",
    "\n",
    "    try:\n",
    "        print(\"Checking that the installation succeeded:\")\n",
    "        import mujoco\n",
    "\n",
    "        mujoco.MjModel.from_xml_string(\"<mujoco/>\")\n",
    "    except Exception as e:\n",
    "        raise e from RuntimeError(\n",
    "            \"Something went wrong during installation. Check the shell output above \"\n",
    "            \"for more information.\\n\"\n",
    "            \"If using a hosted Colab runtime, make sure you enable GPU acceleration \"\n",
    "            'by going to the Runtime menu and selecting \"Choose runtime type\".'\n",
    "        )\n",
    "\n",
    "    print(\"Installation successful.\")"
   ]
  },
  {
   "cell_type": "markdown",
   "metadata": {},
   "source": [
    "Now, we can import flygym and start coding:"
   ]
  },
  {
   "cell_type": "code",
   "execution_count": 2,
   "metadata": {},
   "outputs": [],
   "source": [
    "import flygym\n",
    "\n",
    "# ... your code here"
   ]
  }
 ],
 "metadata": {
  "kernelspec": {
   "display_name": "flygym",
   "language": "python",
   "name": "python3"
  },
  "language_info": {
   "codemirror_mode": {
    "name": "ipython",
    "version": 3
   },
   "file_extension": ".py",
   "mimetype": "text/x-python",
   "name": "python",
   "nbconvert_exporter": "python",
   "pygments_lexer": "ipython3",
   "version": "3.12.3"
  }
 },
 "nbformat": 4,
 "nbformat_minor": 2
}
